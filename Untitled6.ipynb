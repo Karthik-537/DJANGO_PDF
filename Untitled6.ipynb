{
 "cells": [
  {
   "cell_type": "code",
   "execution_count": 1,
   "id": "9e41b3e1-b583-42ed-902e-2d13909649b6",
   "metadata": {},
   "outputs": [],
   "source": [
    "from convert_remarks_to_pdf import ConvertRemarksToPDFInteractor"
   ]
  },
  {
   "cell_type": "code",
   "execution_count": 2,
   "id": "05288329-97d9-48c9-a50b-4f452817f2d9",
   "metadata": {},
   "outputs": [],
   "source": [
    "remarks_to_pdf = ConvertRemarksToPDFInteractor()\n",
    "pdf_bytes = remarks_to_pdf.convert_remarks_to_pdf()"
   ]
  },
  {
   "cell_type": "code",
   "execution_count": 3,
   "id": "4582f76d-a05c-4f24-bdb3-0d8ab588aab4",
   "metadata": {},
   "outputs": [],
   "source": [
    "def save_pdf_from_bytes(pdf_bytes, output_path):\n",
    "    with open(output_path, 'wb') as file:\n",
    "        file.write(pdf_bytes)\n",
    "\n",
    "save_pdf_from_bytes(pdf_bytes, \"generated_document.pdf\")"
   ]
  },
  {
   "cell_type": "code",
   "execution_count": null,
   "id": "985dc853-c6b2-4c06-85fd-c0a5d089e501",
   "metadata": {},
   "outputs": [],
   "source": []
  }
 ],
 "metadata": {
  "kernelspec": {
   "display_name": "Python 3 (ipykernel)",
   "language": "python",
   "name": "python3"
  },
  "language_info": {
   "codemirror_mode": {
    "name": "ipython",
    "version": 3
   },
   "file_extension": ".py",
   "mimetype": "text/x-python",
   "name": "python",
   "nbconvert_exporter": "python",
   "pygments_lexer": "ipython3",
   "version": "3.10.6"
  }
 },
 "nbformat": 4,
 "nbformat_minor": 5
}
