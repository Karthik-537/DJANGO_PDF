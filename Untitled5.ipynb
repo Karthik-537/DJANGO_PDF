{
 "cells": [
  {
   "cell_type": "code",
   "execution_count": 1,
   "id": "4de6f710-c156-4d9d-becc-70fc61eee1da",
   "metadata": {},
   "outputs": [],
   "source": [
    "from convert_remarks_to_pdf import ConvertRemarksToPDFInteractor"
   ]
  },
  {
   "cell_type": "code",
   "execution_count": 2,
   "id": "7856b056-eaac-4c8a-aa84-a2f57115ffc2",
   "metadata": {},
   "outputs": [],
   "source": [
    "remarks_to_pdf = ConvertRemarksToPDFInteractor()\n",
    "pdf_bytes = remarks_to_pdf.convert_remarks_to_pdf()"
   ]
  },
  {
   "cell_type": "code",
   "execution_count": null,
   "id": "974b3860-344f-400c-b623-194e71164d91",
   "metadata": {},
   "outputs": [],
   "source": []
  }
 ],
 "metadata": {
  "kernelspec": {
   "display_name": "Python 3 (ipykernel)",
   "language": "python",
   "name": "python3"
  },
  "language_info": {
   "codemirror_mode": {
    "name": "ipython",
    "version": 3
   },
   "file_extension": ".py",
   "mimetype": "text/x-python",
   "name": "python",
   "nbconvert_exporter": "python",
   "pygments_lexer": "ipython3",
   "version": "3.10.6"
  }
 },
 "nbformat": 4,
 "nbformat_minor": 5
}
