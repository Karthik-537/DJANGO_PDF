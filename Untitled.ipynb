{
 "cells": [
  {
   "cell_type": "code",
   "execution_count": null,
   "id": "83bdd9f3-4590-481a-b0db-c5c1966d821e",
   "metadata": {},
   "outputs": [],
   "source": []
  },
  {
   "cell_type": "code",
   "execution_count": 1,
   "id": "c479562d-98d4-4435-b76d-db2fa7e7dcfc",
   "metadata": {},
   "outputs": [],
   "source": [
    "from PC_Documents import main_code\n",
    "main_code.generate_pdf_for_letter()"
   ]
  },
  {
   "cell_type": "code",
   "execution_count": null,
   "id": "4d104857-a979-460a-8f27-b834e39f21ca",
   "metadata": {},
   "outputs": [],
   "source": []
  },
  {
   "cell_type": "code",
   "execution_count": null,
   "id": "6353be5c-d1eb-42c7-a128-2858469cf074",
   "metadata": {},
   "outputs": [],
   "source": []
  }
 ],
 "metadata": {
  "kernelspec": {
   "display_name": "Python 3 (ipykernel)",
   "language": "python",
   "name": "python3"
  },
  "language_info": {
   "codemirror_mode": {
    "name": "ipython",
    "version": 3
   },
   "file_extension": ".py",
   "mimetype": "text/x-python",
   "name": "python",
   "nbconvert_exporter": "python",
   "pygments_lexer": "ipython3",
   "version": "3.10.6"
  }
 },
 "nbformat": 4,
 "nbformat_minor": 5
}
