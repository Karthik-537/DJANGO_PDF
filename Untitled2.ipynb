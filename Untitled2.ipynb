{
 "cells": [
  {
   "cell_type": "code",
   "execution_count": 1,
   "id": "579a4a08-ca38-4135-920c-838654aebf9f",
   "metadata": {},
   "outputs": [],
   "source": [
    "from convert_remarks_to_pdf import ConvertRemarksToPDFInteractor"
   ]
  },
  {
   "cell_type": "code",
   "execution_count": 2,
   "id": "947eb439-8415-4f1e-8408-be16f5dab76e",
   "metadata": {},
   "outputs": [
    {
     "data": {
      "text/plain": [
       "b''"
      ]
     },
     "execution_count": 2,
     "metadata": {},
     "output_type": "execute_result"
    }
   ],
   "source": [
    "remarks_to_pdf = ConvertRemarksToPDFInteractor()\n",
    "remarks_to_pdf.convert_remarks_to_pdf()"
   ]
  },
  {
   "cell_type": "code",
   "execution_count": 3,
   "id": "86622c8b-6afb-43ac-b8cf-971734519db9",
   "metadata": {},
   "outputs": [],
   "source": [
    "def save_pdf_from_bytes(pdf_bytes, output_path):\n",
    "    with open(output_path, 'wb') as file:\n",
    "        file.write(pdf_bytes)\n",
    "\n",
    "save_pdf_from_bytes(b'', \"generated_document.pdf\")"
   ]
  },
  {
   "cell_type": "code",
   "execution_count": null,
   "id": "0c1d12e0-07f7-44eb-9038-5bad12890024",
   "metadata": {},
   "outputs": [],
   "source": []
  }
 ],
 "metadata": {
  "kernelspec": {
   "display_name": "Python 3 (ipykernel)",
   "language": "python",
   "name": "python3"
  },
  "language_info": {
   "codemirror_mode": {
    "name": "ipython",
    "version": 3
   },
   "file_extension": ".py",
   "mimetype": "text/x-python",
   "name": "python",
   "nbconvert_exporter": "python",
   "pygments_lexer": "ipython3",
   "version": "3.10.6"
  }
 },
 "nbformat": 4,
 "nbformat_minor": 5
}
