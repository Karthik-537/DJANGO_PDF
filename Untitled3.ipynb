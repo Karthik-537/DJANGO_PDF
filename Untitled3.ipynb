{
 "cells": [
  {
   "cell_type": "code",
   "execution_count": 1,
   "id": "bed70126-ec03-410a-b2a4-21b938035273",
   "metadata": {},
   "outputs": [],
   "source": [
    "from convert_remarks_to_pdf import ConvertRemarksToPDFInteractor"
   ]
  },
  {
   "cell_type": "code",
   "execution_count": 2,
   "id": "2907afd0-dc93-43e0-8eec-ead75b654193",
   "metadata": {},
   "outputs": [
    {
     "data": {
      "text/plain": [
       "b'%PDF-1.4\\n%\\x93\\x8c\\x8b\\x9e ReportLab Generated PDF document http://www.reportlab.com\\n1 0 obj\\n<<\\n/F1 2 0 R /F2 3 0 R /F3 4 0 R /F4 5 0 R\\n>>\\nendobj\\n2 0 obj\\n<<\\n/BaseFont /Helvetica /Encoding /WinAnsiEncoding /Name /F1 /Subtype /Type1 /Type /Font\\n>>\\nendobj\\n3 0 obj\\n<<\\n/BaseFont /Helvetica-Bold /Encoding /WinAnsiEncoding /Name /F2 /Subtype /Type1 /Type /Font\\n>>\\nendobj\\n4 0 obj\\n<<\\n/BaseFont /Helvetica-Oblique /Encoding /WinAnsiEncoding /Name /F3 /Subtype /Type1 /Type /Font\\n>>\\nendobj\\n5 0 obj\\n<<\\n/BaseFont /Times-Roman /Encoding /WinAnsiEncoding /Name /F4 /Subtype /Type1 /Type /Font\\n>>\\nendobj\\n6 0 obj\\n<<\\n/Contents 12 0 R /MediaBox [ 0 0 612 792 ] /Parent 11 0 R /Resources <<\\n/Font 1 0 R /ProcSet [ /PDF /Text /ImageB /ImageC /ImageI ]\\n>> /Rotate 0 /Trans <<\\n\\n>> \\n  /Type /Page\\n>>\\nendobj\\n7 0 obj\\n<<\\n/Contents 13 0 R /MediaBox [ 0 0 612 792 ] /Parent 11 0 R /Resources <<\\n/Font 1 0 R /ProcSet [ /PDF /Text /ImageB /ImageC /ImageI ]\\n>> /Rotate 0 /Trans <<\\n\\n>> \\n  /Type /Page\\n>>\\nendobj\\n8 0 obj\\n<<\\n/Contents 14 0 R /MediaBox [ 0 0 612 792 ] /Parent 11 0 R /Resources <<\\n/Font 1 0 R /ProcSet [ /PDF /Text /ImageB /ImageC /ImageI ]\\n>> /Rotate 0 /Trans <<\\n\\n>> \\n  /Type /Page\\n>>\\nendobj\\n9 0 obj\\n<<\\n/PageMode /UseNone /Pages 11 0 R /Type /Catalog\\n>>\\nendobj\\n10 0 obj\\n<<\\n/Author (\\\\(anonymous\\\\)) /CreationDate (D:20250128230417+05\\'00\\') /Creator (\\\\(unspecified\\\\)) /Keywords () /ModDate (D:20250128230417+05\\'00\\') /Producer (ReportLab PDF Library - www.reportlab.com) \\n  /Subject (\\\\(unspecified\\\\)) /Title (\\\\(anonymous\\\\)) /Trapped /False\\n>>\\nendobj\\n11 0 obj\\n<<\\n/Count 3 /Kids [ 6 0 R 7 0 R 8 0 R ] /Type /Pages\\n>>\\nendobj\\n12 0 obj\\n<<\\n/Filter [ /ASCII85Decode /FlateDecode ] /Length 862\\n>>\\nstream\\nGb\"/g966RV&:j6K\\'mk$aA#e&]6&qQ$F4,6%OAjnd-d^?Li.c6LmD#hiQiL.iQL.U6*c,O:G/%<`BOq=@5$36jAcVE.?G/Wi$IO&_mW\"%8iH6u&S7\"KY#2k9uA0iIcXLOaugT](YlD@7U+dEsL.[b`h(YLQt./C4>T[c%hqZTC^&A<a2.;KB2jiW..qK/9)QZAfRomN<F<-q*HT$>l$XDp_<XB^@H\\\\2YMF`O]=C2p6;cX)7=Y[Lt?)+sd-.l,M9.8RB]9SeR7ekFj9?\\\\spQZ25l9aoXKFRHq[/gjDe(nX$\"f-Vs&;%b8(g)R\\\\#uS`]U`%>OVRj9FA:7jUZ<Ldu#\\\\N%oS3u@;Og(/MO$=jG)$!9X/*n8S?]>gb0*-?YPsF!3Ikmh[PlT@/616J.!pgDQq=dX*(!6Q;TYDDLnVoX\\'l\\\\n&iWp$JOSlWk75[&e\\'>i5a%ZJi;EjP<X`co^4r<MOQc&uD8B5Nf!1\"*$]`k96@,E]6#Cq5XU`L=\\\\iL&-t^qq8\"`rS!:X^_?u3U@gIJE^b`*Bi)M6W98dM*hW!>fC]O$s%^+1_g<j3]rRk`PJDd8JgW>WGm*%*6+\\\\1o\"L>K/2%7gB\\\\Go-:),t0psnZta(E[@2&<]$U1[\"#_fC(7NI^ZdK_5nEUoN]MT?)P87k#*.g]8c33,O4R0Css1nLQLqVi6_<\\\\]6GFd.7E<\"hbh6<<YsmQk>ic#o#$0\\\\Y.3iSTUhg?jf>$-/$;AD-dNj37[O*iOA*\":tP[,b;U`*H_KU#:n+:C(*9S9nnK]X6-A*U8@C35+9KlRM)$dH7I*JlM)cH?H+_Gf^Bn)76fcK8mR[1hH09!g>jdX;UW)39IHE_7s3KKn<WnV9VnSID~>endstream\\nendobj\\n13 0 obj\\n<<\\n/Filter [ /ASCII85Decode /FlateDecode ] /Length 679\\n>>\\nstream\\nGb\"/f95iQ=%*.i9\\'Kft0U5>,q7scbj-\\\\;A9h:()1;(\"`j7oh\"Q[VnC`8R1\"Ij\\\\=rMJ71EoBSla2)+n<K\\\\A#1mI4PB$@X.VJ!=@a#TO\\\\\\\\p\"h]o0-P)7oK+LFM:Y%G\\\\fW+D3?A>R0JU1=9nA?20<-t%Pb?oT#2bBET$`F<$O0818&8r\\\\?HZ8rkr]9bEl\\\\TuJT\"$09M0n6R\\\\0p_EP5DUQpN+s_lM#Dseihj9WY>ieHbEj\\'f4tpX\"H3h+(nq:,!CNIaT`dh1\\'LcXT,B*HJlL^\"D8XUmTMpMN^78hH[*BA\\\\p=$3;TBaQZUUuiZ[\\'EIY2,qdP/Oj*]$>Hhm1<g>f/Y:HdcLNMC#eFoM\\\\n3u4Rn(WK\\'V1Vaj@B.T\\'1PI3W7bKmS5k4\\\\6LYF\\'Q0E=\\\\g=;ZXZ$KE\"TN.1lBDQ=u\\'a,:NsZRY]T<3N`U3iYc61hooZ/t/F,8\\\\TWn<t2ZB<J<\\'*G@e@eno_J_(RDd<=@a7e:VVB1.p/mrbUQ6IC*GcP_0i\\\\Y5h#gFL-<4_Y>N@+^P/sqn+M:?0JEi>ETq&ieuJm*=`Hgd\\'j\"LV6`7WMi!LuP@,?_\\'PA;$0(^--qI&A\"a(NlIBbBehD\\\\Q?5Q<.o=(Nt;]nijMnrREmTUVfQ[@Y-M?%jf?WY[E<O]8JX=70j6HLbS%%\\'\\\\]XJ2%rL#dqr7t=+8:)#IK~>endstream\\nendobj\\n14 0 obj\\n<<\\n/Filter [ /ASCII85Decode /FlateDecode ] /Length 475\\n>>\\nstream\\nGb\"/c?Z1NM\\'ZJu*\\'_g!,Z\"l!E/blbbJ$Nl$.W<KOa9jDKMdkg4rX,AskV-n$=gBl<E4ETr_p&JrW*-45^?,FI+^EhY?jL0BN\"Z][,M[stdU@9p<$3WY@\\\\_=C>>6)YN9r]pZh_$;Xh%onUK8-jaTh@88G++IMRcL16=3!F6?lWGL1VH\\'4MS8Q;U%CprA;taM]n$Det#4TZOm@*T/`96VX)\\\\rN]*P\\'If]c>6o&=>$==@f>aptQ+Ae/qc2h@tPph/:O%RBB+M%XQQ?BdJNX+.Ud:+0!^,544,X+/p^OpSFnH;io^=CRtMP<mL+!iTUE#t\\\\+3U%WPmYq\\\\1;\\\\_LRc0l3^K^C`hG=LJWLBk.akP<)1\\\\hRsV*49\\'h&XJuH7J/8<6-FTZj4\\\\tR!u)A`0I4%0j&?rcB<[5$)SO0f]]ClLb?Rg&<SS<`+dCf8lOiSMS,nfS(#K=q.sCO]UZ\"V-e:2(L4ooL-At&~>endstream\\nendobj\\nxref\\n0 15\\n0000000000 65535 f \\n0000000073 00000 n \\n0000000134 00000 n \\n0000000241 00000 n \\n0000000353 00000 n \\n0000000468 00000 n \\n0000000577 00000 n \\n0000000772 00000 n \\n0000000967 00000 n \\n0000001162 00000 n \\n0000001231 00000 n \\n0000001515 00000 n \\n0000001587 00000 n \\n0000002540 00000 n \\n0000003310 00000 n \\ntrailer\\n<<\\n/ID \\n[<b1f9dfa721ae24b251198f3d1c48cf5f><b1f9dfa721ae24b251198f3d1c48cf5f>]\\n% ReportLab generated PDF document -- digest (http://www.reportlab.com)\\n\\n/Info 10 0 R\\n/Root 9 0 R\\n/Size 15\\n>>\\nstartxref\\n3876\\n%%EOF\\n'"
      ]
     },
     "execution_count": 2,
     "metadata": {},
     "output_type": "execute_result"
    }
   ],
   "source": [
    "convert_remarks_to_pdf = ConvertRemarksToPDFInteractor()\n",
    "convert_remarks_to_pdf.convert_remarks_to_pdf()"
   ]
  },
  {
   "cell_type": "code",
   "execution_count": 6,
   "id": "8a01084e-4201-477a-9bdb-79c4075601c2",
   "metadata": {},
   "outputs": [],
   "source": [
    "def save_pdf_from_bytes(pdf_bytes, output_path):\n",
    "    with open(output_path, 'wb') as file:\n",
    "        file.write(pdf_bytes)\n",
    "pdf_bytes = b'%PDF-1.4\\n%\\x93\\x8c\\x8b\\x9e ReportLab Generated PDF document http://www.reportlab.com\\n1 0 obj\\n<<\\n/F1 2 0 R /F2 3 0 R /F3 4 0 R /F4 5 0 R\\n>>\\nendobj\\n2 0 obj\\n<<\\n/BaseFont /Helvetica /Encoding /WinAnsiEncoding /Name /F1 /Subtype /Type1 /Type /Font\\n>>\\nendobj\\n3 0 obj\\n<<\\n/BaseFont /Helvetica-Bold /Encoding /WinAnsiEncoding /Name /F2 /Subtype /Type1 /Type /Font\\n>>\\nendobj\\n4 0 obj\\n<<\\n/BaseFont /Helvetica-Oblique /Encoding /WinAnsiEncoding /Name /F3 /Subtype /Type1 /Type /Font\\n>>\\nendobj\\n5 0 obj\\n<<\\n/BaseFont /Times-Roman /Encoding /WinAnsiEncoding /Name /F4 /Subtype /Type1 /Type /Font\\n>>\\nendobj\\n6 0 obj\\n<<\\n/Contents 12 0 R /MediaBox [ 0 0 612 792 ] /Parent 11 0 R /Resources <<\\n/Font 1 0 R /ProcSet [ /PDF /Text /ImageB /ImageC /ImageI ]\\n>> /Rotate 0 /Trans <<\\n\\n>> \\n  /Type /Page\\n>>\\nendobj\\n7 0 obj\\n<<\\n/Contents 13 0 R /MediaBox [ 0 0 612 792 ] /Parent 11 0 R /Resources <<\\n/Font 1 0 R /ProcSet [ /PDF /Text /ImageB /ImageC /ImageI ]\\n>> /Rotate 0 /Trans <<\\n\\n>> \\n  /Type /Page\\n>>\\nendobj\\n8 0 obj\\n<<\\n/Contents 14 0 R /MediaBox [ 0 0 612 792 ] /Parent 11 0 R /Resources <<\\n/Font 1 0 R /ProcSet [ /PDF /Text /ImageB /ImageC /ImageI ]\\n>> /Rotate 0 /Trans <<\\n\\n>> \\n  /Type /Page\\n>>\\nendobj\\n9 0 obj\\n<<\\n/PageMode /UseNone /Pages 11 0 R /Type /Catalog\\n>>\\nendobj\\n10 0 obj\\n<<\\n/Author (\\\\(anonymous\\\\)) /CreationDate (D:20250128230417+05\\'00\\') /Creator (\\\\(unspecified\\\\)) /Keywords () /ModDate (D:20250128230417+05\\'00\\') /Producer (ReportLab PDF Library - www.reportlab.com) \\n  /Subject (\\\\(unspecified\\\\)) /Title (\\\\(anonymous\\\\)) /Trapped /False\\n>>\\nendobj\\n11 0 obj\\n<<\\n/Count 3 /Kids [ 6 0 R 7 0 R 8 0 R ] /Type /Pages\\n>>\\nendobj\\n12 0 obj\\n<<\\n/Filter [ /ASCII85Decode /FlateDecode ] /Length 862\\n>>\\nstream\\nGb\"/g966RV&:j6K\\'mk$aA#e&]6&qQ$F4,6%OAjnd-d^?Li.c6LmD#hiQiL.iQL.U6*c,O:G/%<`BOq=@5$36jAcVE.?G/Wi$IO&_mW\"%8iH6u&S7\"KY#2k9uA0iIcXLOaugT](YlD@7U+dEsL.[b`h(YLQt./C4>T[c%hqZTC^&A<a2.;KB2jiW..qK/9)QZAfRomN<F<-q*HT$>l$XDp_<XB^@H\\\\2YMF`O]=C2p6;cX)7=Y[Lt?)+sd-.l,M9.8RB]9SeR7ekFj9?\\\\spQZ25l9aoXKFRHq[/gjDe(nX$\"f-Vs&;%b8(g)R\\\\#uS`]U`%>OVRj9FA:7jUZ<Ldu#\\\\N%oS3u@;Og(/MO$=jG)$!9X/*n8S?]>gb0*-?YPsF!3Ikmh[PlT@/616J.!pgDQq=dX*(!6Q;TYDDLnVoX\\'l\\\\n&iWp$JOSlWk75[&e\\'>i5a%ZJi;EjP<X`co^4r<MOQc&uD8B5Nf!1\"*$]`k96@,E]6#Cq5XU`L=\\\\iL&-t^qq8\"`rS!:X^_?u3U@gIJE^b`*Bi)M6W98dM*hW!>fC]O$s%^+1_g<j3]rRk`PJDd8JgW>WGm*%*6+\\\\1o\"L>K/2%7gB\\\\Go-:),t0psnZta(E[@2&<]$U1[\"#_fC(7NI^ZdK_5nEUoN]MT?)P87k#*.g]8c33,O4R0Css1nLQLqVi6_<\\\\]6GFd.7E<\"hbh6<<YsmQk>ic#o#$0\\\\Y.3iSTUhg?jf>$-/$;AD-dNj37[O*iOA*\":tP[,b;U`*H_KU#:n+:C(*9S9nnK]X6-A*U8@C35+9KlRM)$dH7I*JlM)cH?H+_Gf^Bn)76fcK8mR[1hH09!g>jdX;UW)39IHE_7s3KKn<WnV9VnSID~>endstream\\nendobj\\n13 0 obj\\n<<\\n/Filter [ /ASCII85Decode /FlateDecode ] /Length 679\\n>>\\nstream\\nGb\"/f95iQ=%*.i9\\'Kft0U5>,q7scbj-\\\\;A9h:()1;(\"`j7oh\"Q[VnC`8R1\"Ij\\\\=rMJ71EoBSla2)+n<K\\\\A#1mI4PB$@X.VJ!=@a#TO\\\\\\\\p\"h]o0-P)7oK+LFM:Y%G\\\\fW+D3?A>R0JU1=9nA?20<-t%Pb?oT#2bBET$`F<$O0818&8r\\\\?HZ8rkr]9bEl\\\\TuJT\"$09M0n6R\\\\0p_EP5DUQpN+s_lM#Dseihj9WY>ieHbEj\\'f4tpX\"H3h+(nq:,!CNIaT`dh1\\'LcXT,B*HJlL^\"D8XUmTMpMN^78hH[*BA\\\\p=$3;TBaQZUUuiZ[\\'EIY2,qdP/Oj*]$>Hhm1<g>f/Y:HdcLNMC#eFoM\\\\n3u4Rn(WK\\'V1Vaj@B.T\\'1PI3W7bKmS5k4\\\\6LYF\\'Q0E=\\\\g=;ZXZ$KE\"TN.1lBDQ=u\\'a,:NsZRY]T<3N`U3iYc61hooZ/t/F,8\\\\TWn<t2ZB<J<\\'*G@e@eno_J_(RDd<=@a7e:VVB1.p/mrbUQ6IC*GcP_0i\\\\Y5h#gFL-<4_Y>N@+^P/sqn+M:?0JEi>ETq&ieuJm*=`Hgd\\'j\"LV6`7WMi!LuP@,?_\\'PA;$0(^--qI&A\"a(NlIBbBehD\\\\Q?5Q<.o=(Nt;]nijMnrREmTUVfQ[@Y-M?%jf?WY[E<O]8JX=70j6HLbS%%\\'\\\\]XJ2%rL#dqr7t=+8:)#IK~>endstream\\nendobj\\n14 0 obj\\n<<\\n/Filter [ /ASCII85Decode /FlateDecode ] /Length 475\\n>>\\nstream\\nGb\"/c?Z1NM\\'ZJu*\\'_g!,Z\"l!E/blbbJ$Nl$.W<KOa9jDKMdkg4rX,AskV-n$=gBl<E4ETr_p&JrW*-45^?,FI+^EhY?jL0BN\"Z][,M[stdU@9p<$3WY@\\\\_=C>>6)YN9r]pZh_$;Xh%onUK8-jaTh@88G++IMRcL16=3!F6?lWGL1VH\\'4MS8Q;U%CprA;taM]n$Det#4TZOm@*T/`96VX)\\\\rN]*P\\'If]c>6o&=>$==@f>aptQ+Ae/qc2h@tPph/:O%RBB+M%XQQ?BdJNX+.Ud:+0!^,544,X+/p^OpSFnH;io^=CRtMP<mL+!iTUE#t\\\\+3U%WPmYq\\\\1;\\\\_LRc0l3^K^C`hG=LJWLBk.akP<)1\\\\hRsV*49\\'h&XJuH7J/8<6-FTZj4\\\\tR!u)A`0I4%0j&?rcB<[5$)SO0f]]ClLb?Rg&<SS<`+dCf8lOiSMS,nfS(#K=q.sCO]UZ\"V-e:2(L4ooL-At&~>endstream\\nendobj\\nxref\\n0 15\\n0000000000 65535 f \\n0000000073 00000 n \\n0000000134 00000 n \\n0000000241 00000 n \\n0000000353 00000 n \\n0000000468 00000 n \\n0000000577 00000 n \\n0000000772 00000 n \\n0000000967 00000 n \\n0000001162 00000 n \\n0000001231 00000 n \\n0000001515 00000 n \\n0000001587 00000 n \\n0000002540 00000 n \\n0000003310 00000 n \\ntrailer\\n<<\\n/ID \\n[<b1f9dfa721ae24b251198f3d1c48cf5f><b1f9dfa721ae24b251198f3d1c48cf5f>]\\n% ReportLab generated PDF document -- digest (http://www.reportlab.com)\\n\\n/Info 10 0 R\\n/Root 9 0 R\\n/Size 15\\n>>\\nstartxref\\n3876\\n%%EOF\\n'\n",
    "save_pdf_from_bytes(pdf_bytes, \"generated_document.pdf\")"
   ]
  },
  {
   "cell_type": "code",
   "execution_count": null,
   "id": "d1b80e92-f123-4adb-ad4b-ba4e8cea8a67",
   "metadata": {},
   "outputs": [],
   "source": []
  }
 ],
 "metadata": {
  "kernelspec": {
   "display_name": "Python 3 (ipykernel)",
   "language": "python",
   "name": "python3"
  },
  "language_info": {
   "codemirror_mode": {
    "name": "ipython",
    "version": 3
   },
   "file_extension": ".py",
   "mimetype": "text/x-python",
   "name": "python",
   "nbconvert_exporter": "python",
   "pygments_lexer": "ipython3",
   "version": "3.10.6"
  }
 },
 "nbformat": 4,
 "nbformat_minor": 5
}
