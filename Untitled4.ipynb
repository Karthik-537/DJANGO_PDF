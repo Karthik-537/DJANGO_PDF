{
 "cells": [
  {
   "cell_type": "code",
   "execution_count": 1,
   "id": "e4d66eb4-0ed6-4204-8f63-198f58802035",
   "metadata": {},
   "outputs": [],
   "source": [
    "from convert_remarks_to_pdf import ConvertRemarksToPDFInteractor"
   ]
  },
  {
   "cell_type": "code",
   "execution_count": 2,
   "id": "60110225-2c9e-4e7c-b2f1-2f5463aaa707",
   "metadata": {
    "scrolled": true
   },
   "outputs": [],
   "source": [
    "remarks_to_pdf = ConvertRemarksToPDFInteractor()\n",
    "pdf_bytes = remarks_to_pdf.convert_remarks_to_pdf()"
   ]
  },
  {
   "cell_type": "code",
   "execution_count": 3,
   "id": "d8ae4f56-2b31-4daa-b44f-bafee1576ea9",
   "metadata": {},
   "outputs": [],
   "source": [
    "def save_pdf_from_bytes(pdf_bytes, output_path):\n",
    "    with open(output_path, 'wb') as file:\n",
    "        file.write(pdf_bytes)\n",
    "# pdf_bytes = b'%PDF-1.4\\n%\\x93\\x8c\\x8b\\x9e ReportLab Generated PDF document http://www.reportlab.com\\n1 0 obj\\n<<\\n/F1 2 0 R /F2 3 0 R /F3 4 0 R /F4 5 0 R\\n>>\\nendobj\\n2 0 obj\\n<<\\n/BaseFont /Helvetica /Encoding /WinAnsiEncoding /Name /F1 /Subtype /Type1 /Type /Font\\n>>\\nendobj\\n3 0 obj\\n<<\\n/BaseFont /Times-Roman /Encoding /WinAnsiEncoding /Name /F2 /Subtype /Type1 /Type /Font\\n>>\\nendobj\\n4 0 obj\\n<<\\n/BaseFont /Helvetica-Bold /Encoding /WinAnsiEncoding /Name /F3 /Subtype /Type1 /Type /Font\\n>>\\nendobj\\n5 0 obj\\n<<\\n/BaseFont /Helvetica-Oblique /Encoding /WinAnsiEncoding /Name /F4 /Subtype /Type1 /Type /Font\\n>>\\nendobj\\n6 0 obj\\n<<\\n/Contents 12 0 R /MediaBox [ 0 0 612 792 ] /Parent 11 0 R /Resources <<\\n/Font 1 0 R /ProcSet [ /PDF /Text /ImageB /ImageC /ImageI ]\\n>> /Rotate 0 /Trans <<\\n\\n>> \\n  /Type /Page\\n>>\\nendobj\\n7 0 obj\\n<<\\n/Contents 13 0 R /MediaBox [ 0 0 612 792 ] /Parent 11 0 R /Resources <<\\n/Font 1 0 R /ProcSet [ /PDF /Text /ImageB /ImageC /ImageI ]\\n>> /Rotate 0 /Trans <<\\n\\n>> \\n  /Type /Page\\n>>\\nendobj\\n8 0 obj\\n<<\\n/Contents 14 0 R /MediaBox [ 0 0 612 792 ] /Parent 11 0 R /Resources <<\\n/Font 1 0 R /ProcSet [ /PDF /Text /ImageB /ImageC /ImageI ]\\n>> /Rotate 0 /Trans <<\\n\\n>> \\n  /Type /Page\\n>>\\nendobj\\n9 0 obj\\n<<\\n/PageMode /UseNone /Pages 11 0 R /Type /Catalog\\n>>\\nendobj\\n10 0 obj\\n<<\\n/Author (\\\\(anonymous\\\\)) /CreationDate (D:20250129093840+05\\'00\\') /Creator (\\\\(unspecified\\\\)) /Keywords () /ModDate (D:20250129093840+05\\'00\\') /Producer (ReportLab PDF Library - www.reportlab.com) \\n  /Subject (\\\\(unspecified\\\\)) /Title (\\\\(anonymous\\\\)) /Trapped /False\\n>>\\nendobj\\n11 0 obj\\n<<\\n/Count 3 /Kids [ 6 0 R 7 0 R 8 0 R ] /Type /Pages\\n>>\\nendobj\\n12 0 obj\\n<<\\n/Filter [ /ASCII85Decode /FlateDecode ] /Length 895\\n>>\\nstream\\nGb\"/g968f@&BF6eMETD5`7;\"9bMnnW4st1p`&Y4g0X7+1(t(*[g4&qA0<cH?3s#n_A/IR8g\"P>drd*3&b^?Yi]ikE+`pi7&!YWH/!C\\\\+R5(hJWk^J38Pq%A^@h>\\'ONKk70eb,lTOVKh\\'KA.6AJBE3?7\\'9\\'IJ0@jRJ:NGKdT%sQ+Gpt0R\\\\J:$`GBf]>J5R^#3(u[O)spGqVatr(?X>g\\\\DnEZP!tVE-86c9nq>s..3P.\"2Bf.n:>2%P^s5#l7K-D[5A]Gr9\\'>iKZ2Z_I&*A3pqXVn`P\"r$VRqfS.JVSTMO(H_I!6Og3$na%-D?).9\"6eI8YR+ftJ7=`\\'#3Yd1h.e[f+AVs<\")(XD:p,RdSD+t,3sCk(+ik]GBC>8fN/kBB42&h#&ntaqabDlTcb_taU<WC\\\\4j2thV>j&O?\\'J4p/#?2U1UthB/j;(<Pr&OV63gCieQdlTA(cMr&/&aT&:%P6PB<)7QY@>T0rcgn3AVoIj!VgMn`tl%mdJJD\"_[Gg/aQbb@e1TB9%?nGYQ)%-A/WN,>Q2(El:.t<9?-5\"/5+TFc9RKe!g<^\\'LTLt+^d:Q*^jJ*1VUm$m8\"hT?Du`C7o4&?9\\'#)00!N^V@_EEE:qu.k:\\\\$j&G;N=kTQb5Pdbj(QB4i))UIJ6!J08\\\\<-jFejuNV>]%Qct4r)SL:M\"-$Vb*sU!&2jbY\"k-`5<K\\')o#\\'9VV@9gl_U:sVK^8Ud0W8XB(A\\'Y1Rm/@b0fSqbkRU(aRkl?DXZ[A`H4;BP9fG1\\'^GmdU8kg%QGkSE:%V9]t\"lf)8?f*0c;8629MJ5-Tn)\\'+@$14rF<Brr161%jlp?!$/]\"2I/-\\\\%_;Q&E&q2MGDkbJ6_grJIIfFCT`-EflRDG0go[^iQA9,@BC7.c?*1^mq?Q;6[.F~>endstream\\nendobj\\n13 0 obj\\n<<\\n/Filter [ /ASCII85Decode /FlateDecode ] /Length 650\\n>>\\nstream\\nGb\"/fhf\"u<&BE](/+,-_\\'^@d7f^uGsIO^f9Q9D?u5UDh]!*MmhD?\\'PC,Y]DafrRA;#UP/1IG`?kBBt/bb_==9@f^P>^uYe(,Y/]$+r$-_i-c5#\"h:2(1iOnfA7K,/XniWsAbbVK9*Ru8qI,@*WkD)hq=!-V>%X6*lCT5i4S[S_+B_#$Y\\'\\'[Mr]9b5o9\"C\\\\*k=f/OaH.1\\\\OZ(Mqe^9o<gXZs`a%=X=&@`8p8o0eqRldoGIsE;R=P^E>n\\\\E&71qqGR*l%&+tb<.CSHkA1nD##GA4T_Wu%Hi;A]ctpN>OVL66#8lHp\"e`(3W@:.YKO.j;&d+%W9bWR\"s2QE6fEjR6()(ts)gIPgb*k2D6oXFfmO`g69q:&S&GX_.u::5uOs.mUE:T#9A*^E3H6g&QGBMM8/dNX01o=7gW6\\'koj6N24RuWgJk4od8\">25R`sMTA<Zo.J:SO2Iu&fN!cU<54^O]ZQT&Hrq5R<>]65,Q-fPcZo]#A[uu@U:+,:WdPZLB8[3e[NH7MkT.@V-XQg+PhC)h\"*B80OY8=IE$MPfhVaP1=#+,fm_G)oHa1EK:0_\\\\oLe*YH)#\\'tn,80S$iVu_%kZuaA`9:R]mS[KMPs%CVr/9<4/[>6k;dQBS2I!8lffEKA[TQB?K\"m5]Y58~>endstream\\nendobj\\n14 0 obj\\n<<\\n/Filter [ /ASCII85Decode /FlateDecode ] /Length 466\\n>>\\nstream\\nGatn\">Ao*Y&;B$;(%Z+.\\\\D8$G\\\\`d7]?IH1k.W8$\\'8-,!6NFHXPIKr99\\\\Ad)YA0H;eSF>eu+@s5N^:tHa[fP:>,9T:6!%OZbG_WiG>$BQX\\\\fSAE\\\\C_]?X,^OiYU4.&27;\\'Fp\\\\sM]CqXEI9pKe\\'N08RUKkVD6P:R5iHNc\\\\B_0#o%SKN.p^lJ!oE\\'l6V-KeqU-(LZmXd+aFk]6C?4Gr\\\\HK(s-;8[P=NLu.73nU*B%T*J!/!7\\\\aZ$P96EWBJ]YC$c;G.GL)^\\\\Wl$0k$&*ZgEd:1*U.kW\"Hfh.5D_#edHMeM,[=m=lGq70P404<rX[:DiFp>=i3s<j8<WC6m#qh@%F?+d]h?d<0&6aO)7li]?2kE)/8X\\'$IUITARjVOAp%l[3e7pkK>A[D:#g5u_U4-0oQIRdH8JAje!9FL8YHD_R)N8adpc+%\\'%(#FZL@V*q@9q.>/7-;dUIhi9!7j+$_AUD~>endstream\\nendobj\\nxref\\n0 15\\n0000000000 65535 f \\n0000000073 00000 n \\n0000000134 00000 n \\n0000000241 00000 n \\n0000000350 00000 n \\n0000000462 00000 n \\n0000000577 00000 n \\n0000000772 00000 n \\n0000000967 00000 n \\n0000001162 00000 n \\n0000001231 00000 n \\n0000001515 00000 n \\n0000001587 00000 n \\n0000002573 00000 n \\n0000003314 00000 n \\ntrailer\\n<<\\n/ID \\n[<1985c5ec93485e0f01a1d3e9e2baef34><1985c5ec93485e0f01a1d3e9e2baef34>]\\n% ReportLab generated PDF document -- digest (http://www.reportlab.com)\\n\\n/Info 10 0 R\\n/Root 9 0 R\\n/Size 15\\n>>\\nstartxref\\n3871\\n%%EOF\\n'\n",
    "save_pdf_from_bytes(pdf_bytes, \"generated_document.pdf\")"
   ]
  },
  {
   "cell_type": "code",
   "execution_count": null,
   "id": "73f707bd-93ab-4f69-a0f7-542cf57f2aa9",
   "metadata": {},
   "outputs": [],
   "source": []
  },
  {
   "cell_type": "code",
   "execution_count": null,
   "id": "af1bff18-c48c-4998-be60-1ff9f5595a8c",
   "metadata": {},
   "outputs": [],
   "source": []
  }
 ],
 "metadata": {
  "kernelspec": {
   "display_name": "Python 3 (ipykernel)",
   "language": "python",
   "name": "python3"
  },
  "language_info": {
   "codemirror_mode": {
    "name": "ipython",
    "version": 3
   },
   "file_extension": ".py",
   "mimetype": "text/x-python",
   "name": "python",
   "nbconvert_exporter": "python",
   "pygments_lexer": "ipython3",
   "version": "3.10.6"
  }
 },
 "nbformat": 4,
 "nbformat_minor": 5
}
