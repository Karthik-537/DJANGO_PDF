{
 "cells": [
  {
   "cell_type": "code",
   "execution_count": 1,
   "id": "932f30d9-e47c-4ff7-b1dd-3d8eaefe762c",
   "metadata": {},
   "outputs": [
    {
     "ename": "NameError",
     "evalue": "name 'pdf_bytes' is not defined",
     "output_type": "error",
     "traceback": [
      "\u001b[1;31m---------------------------------------------------------------------------\u001b[0m",
      "\u001b[1;31mNameError\u001b[0m                                 Traceback (most recent call last)",
      "Cell \u001b[1;32mIn[1], line 5\u001b[0m\n\u001b[0;32m      2\u001b[0m     \u001b[38;5;28;01mwith\u001b[39;00m \u001b[38;5;28mopen\u001b[39m(output_path, \u001b[38;5;124m'\u001b[39m\u001b[38;5;124mwb\u001b[39m\u001b[38;5;124m'\u001b[39m) \u001b[38;5;28;01mas\u001b[39;00m file:\n\u001b[0;32m      3\u001b[0m         file\u001b[38;5;241m.\u001b[39mwrite(pdf_bytes)\n\u001b[1;32m----> 5\u001b[0m save_pdf_from_bytes(\u001b[43mpdf_bytes\u001b[49m, \u001b[38;5;124m\"\u001b[39m\u001b[38;5;124mgenerated_document.pdf\u001b[39m\u001b[38;5;124m\"\u001b[39m)\n",
      "\u001b[1;31mNameError\u001b[0m: name 'pdf_bytes' is not defined"
     ]
    }
   ],
   "source": [
    "def save_pdf_from_bytes(pdf_bytes, output_path):\n",
    "    with open(output_path, 'wb') as file:\n",
    "        file.write(pdf_bytes)\n",
    "\n",
    "save_pdf_from_bytes(pdf_bytes, \"generated_document.pdf\")"
   ]
  },
  {
   "cell_type": "code",
   "execution_count": 2,
   "id": "68c95965-9d8d-44d6-b68d-9a0a9e17e85a",
   "metadata": {},
   "outputs": [
    {
     "ename": "SyntaxError",
     "evalue": "invalid syntax (convert_remarks_to_pdf.py, line 149)",
     "output_type": "error",
     "traceback": [
      "Traceback \u001b[1;36m(most recent call last)\u001b[0m:\n",
      "\u001b[0m  File \u001b[0;32m~\\Desktop\\pdf_letter_generator\\.env\\lib\\site-packages\\IPython\\core\\interactiveshell.py:3577\u001b[0m in \u001b[0;35mrun_code\u001b[0m\n    exec(code_obj, self.user_global_ns, self.user_ns)\u001b[0m\n",
      "\u001b[1;36m  Cell \u001b[1;32mIn[2], line 1\u001b[1;36m\n\u001b[1;33m    from convert_remarks_to_pdf import ConvertRemarksToPDFInteractor\u001b[1;36m\n",
      "\u001b[1;36m  File \u001b[1;32m~\\Desktop\\pdf_letter_generator\\convert_remarks_to_pdf.py:149\u001b[1;36m\u001b[0m\n\u001b[1;33m    flowables = extra_paragraph.create_feature_paragraph_flowables(grid_units= grid_units)                                                             grid_units\u001b[0m\n\u001b[1;37m                                                                                                                                                       ^\u001b[0m\n\u001b[1;31mSyntaxError\u001b[0m\u001b[1;31m:\u001b[0m invalid syntax\n"
     ]
    }
   ],
   "source": [
    "from convert_remarks_to_pdf import ConvertRemarksToPDFInteractor"
   ]
  },
  {
   "cell_type": "code",
   "execution_count": null,
   "id": "4b35f33e-bbc5-403a-8071-2510befaf081",
   "metadata": {},
   "outputs": [],
   "source": []
  }
 ],
 "metadata": {
  "kernelspec": {
   "display_name": "Python 3 (ipykernel)",
   "language": "python",
   "name": "python3"
  },
  "language_info": {
   "codemirror_mode": {
    "name": "ipython",
    "version": 3
   },
   "file_extension": ".py",
   "mimetype": "text/x-python",
   "name": "python",
   "nbconvert_exporter": "python",
   "pygments_lexer": "ipython3",
   "version": "3.10.6"
  }
 },
 "nbformat": 4,
 "nbformat_minor": 5
}
