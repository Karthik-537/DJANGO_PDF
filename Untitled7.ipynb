{
 "cells": [
  {
   "cell_type": "code",
   "execution_count": 1,
   "id": "9c220869-b20c-4b13-839a-dbebbaf18a5e",
   "metadata": {},
   "outputs": [],
   "source": [
    "from convert_remarks_to_pdf import ConvertRemarksToPDFInteractor"
   ]
  },
  {
   "cell_type": "code",
   "execution_count": 2,
   "id": "4eac0195-ec78-4a8c-9cac-722386f1b7a9",
   "metadata": {},
   "outputs": [],
   "source": [
    "remarks_to_pdf = ConvertRemarksToPDFInteractor()\n",
    "from convert_remarks_to_pdf import PipelineItemRemarksDTO\n",
    "import datetime\n",
    "remark_dtos = [PipelineItemRemarksDTO(pipeline_item_remarks_id='14c70a1d-3990-4d92-b32f-521d92a70db5', pipeline_item_id='23645e99-d590-406c-8b30-d78ecea065a3', added_at=datetime.datetime(2025, 1, 27, 21, 30, 21, 517779), remarks='<p>Normal Text. Normal Text Normal Text Normal Text Normal Text Normal Text Normal Text Normal TextNormal Text</p><p><br></p><p><strong>Bold Text Bold Text Bold Text Bold Text Bold Text </strong></p><p><br></p><p><em>Italic Text Italic Text Italic Text Italic Text Italic Text </em></p><p><br></p><p><u>Underline Text Underline Text Underline Text Underline Text Underline Text Underline Text Underline Text </u></p><p><br></p><p><br></p><p><a href=\"https://bps-officer-alpha.flowwlabs.tech/templates/c0f628ce-1b12-47d9-b1ba-7069e864231c/b/15cd7e47-f0af-4550-9a0f-ef8fb0e6c910?pid=271e916b-1bd5-4964-8eeb-0dcc608567bb&amp;rid=23645e99-d590-406c-8b30-d78ecea065a3\" rel=\"noopener noreferrer\" target=\"_blank\">Hyper Link Hyper Link Hyper Link Hyper Link Hyper Link Hyper Link Hyper Link </a></p><p><br></p><p><br></p><ol><li>Bullet 1</li><li>Bullet 1</li><li>Bullet 1</li><li>Bullet 1</li><li>Bullet 1</li></ol><p><br></p><p><br></p><ul><li>Ordered 1</li><li>Ordered 2</li><li>Ordered 1</li><li>Ordered 1</li><li>Ordered 1</li><li>Ordered 1</li></ul><p><br></p><p class=\"ql-align-center\">Middle Text</p><p class=\"ql-align-center\">Middle TextMiddle TextMiddle TextMiddle Text</p><p class=\"ql-align-center\">Middle TextMiddle TextMiddle Text</p><p class=\"ql-align-center\"><br></p><p class=\"ql-align-right\">Middle TextMiddle Text</p><p class=\"ql-align-right\"><br></p><p class=\"ql-align-right\">Right Text</p>', added_by='2e3b0eec-0fe2-4e98-9259-d66060069b78', last_updated_at=datetime.datetime(2025, 1, 27, 21, 30, 21, 517779), task_reference_id=None, pipeline_id=None, is_drafted_remarks=None), PipelineItemRemarksDTO(pipeline_item_remarks_id='c745a9ff-0fc5-4632-9097-8893000bfa04', pipeline_item_id='23645e99-d590-406c-8b30-d78ecea065a3', added_at=datetime.datetime(2025, 1, 27, 20, 53, 16, 618553), remarks='<p>Random Text. Random TextRandom Text. Random TextRandom Text. Random TextRandom Text. Random TextRandom Text. Random TextRandom Text. Random TextRandom Text. Random TextRandom Text. Random TextRandom Text. Random TextRandom Text. Random TextRandom Text. Random TextRandom Text. Random TextRandom Text. Random TextRandom Text. Random TextRandom Text. Random TextRandom Text. Random TextRandom Text. Random TextRandom Text. Random TextRandom Text. Random TextRandom Text. Random TextRandom Text. Random TextRandom Text. Random TextRandom Text. Random TextRandom Text. Random TextRandom Text. Random TextRandom Text. Random TextRandom Text. Random TextRandom Text. Random TextRandom Text. Random TextRandom Text. Random TextRandom Text. Random TextRandom Text. Random TextRandom Text. Random TextRandom Text. Random TextRandom Text. Random TextRandom Text. Random TextRandom Text. Random TextRandom Text. Random TextRandom Text. Random TextRandom Text. Random TextRandom Text. Random TextRandom Text. Random TextRandom Text. Random TextRandom Text. Random TextRandom Text. Random TextRandom Text. Random TextRandom Text. Random TextRandom Text. Random TextRandom Text. Random TextRandom Text. Random TextRandom Text. Random TextRandom Text. Random TextRandom Text. Random TextRandom Text. Random TextRandom Text. Random TextRandom Text. Random TextRandom Text. Random TextRandom Text. Random TextRandom Text. Random TextRandom Text. Random TextRandom Text. Random TextRandom Text. Random TextRandom Text. Random TextRandom Text. Random TextRandom Text. Random TextRandom Text. Random TextRandom Text. Random TextRandom Text. Random TextRandom Text. Random TextRandom Text. Random TextRandom Text. Random TextRandom Text. Random TextRandom Text. Random TextRandom Text. Random TextRandom Text. Random TextRandom Text. Random TextRandom Text. Random TextRandom Text. Random TextRandom Text. Random TextRandom Text. Random TextRandom Text. Random TextRandom Text. Random TextRandom Text. Random TextRandom Text. Random TextRandom Text. Random TextRandom Text. Random TextRandom Text. Random TextRandom Text. Random TextRandom Text. Random TextRandom Text. Random TextRandom Text. Random TextRandom Text. Random TextRandom Text. Random TextRandom Text. Random TextRandom Text. Random TextRandom Text. Random TextRandom Text. Random TextRandom Text. Random TextRandom Text. Random TextRandom Text. Random TextRandom Text. Random TextRandom Text. Random TextRandom Text. Random TextRandom Text. Random TextRandom Text. Random TextRandom Text. Random TextRandom Text. Random TextRandom Text. Random TextRandom Text. Random TextRandom Text. Random TextRandom Text. Random TextRandom Text. Random TextRandom Text. Random TextRandom Text. Random TextRandom Text. Random TextRandom Text. Random TextRandom Text. Random TextRandom Text. Random TextRandom Text. Random TextRandom Text. Random TextRandom Text. Random TextRandom Text. Random TextRandom Text. Random TextRandom Text. Random TextRandom Text. Random TextRandom Text. Random TextRandom Text. Random TextRandom Text. Random TextRandom Text. Random TextRandom Text. Random TextRandom Text. Random TextRandom Text. Random TextRandom Text. Random TextRandom Text. Random TextRandom Text. Random TextRandom Text. Random TextRandom Text. Random TextRandom Text. Random TextRandom Text. Random TextRandom Text. Random TextRandom Text. Random TextRandom Text. Random TextRandom Text. Random TextRandom Text. Random TextRandom Text. Random Text</p>', added_by='2e3b0eec-0fe2-4e98-9259-d66060069b78', last_updated_at=datetime.datetime(2025, 1, 27, 20, 53, 16, 618553), task_reference_id=None, pipeline_id=None, is_drafted_remarks=None), PipelineItemRemarksDTO(pipeline_item_remarks_id='33f1da91-3fa6-43a0-a361-16f4d24806a9', pipeline_item_id='23645e99-d590-406c-8b30-d78ecea065a3', added_at=datetime.datetime(2025, 1, 27, 18, 44, 28, 27879), remarks='<p>Normal Text</p><p>Bold Text</p><p>Italic Text</p><p>Underline Text</p><p><a href=\"https://bps-officer-alpha.flowwlabs.tech/templates/c0f628ce-1b12-47d9-b1ba-7069e864231c/b/15cd7e47-f0af-4550-9a0f-ef8fb0e6c910?pid=271e916b-1bd5-4964-8eeb-0dcc608567bb&amp;rid=23645e99-d590-406c-8b30-d78ecea065a3\" rel=\"noopener noreferrer\" target=\"_blank\">Hyper Link</a></p><p><br></p><ol><li>List 1</li><li>List 2</li><li>List 3</li></ol><p><br></p><ul><li>List 1</li><li>List 2</li><li>List 3</li></ul><p><br></p><p class=\"ql-align-center\">sdfksdklfjsd</p><p class=\"ql-align-center\">sdfl;kajsd;fklasdf</p><p class=\"ql-align-center\">ssdfl;kasjd;flskdfjsd</p><p class=\"ql-align-center\">Middle Text</p><p class=\"ql-align-center\"><br></p><p class=\"ql-align-center\"><br></p><p class=\"ql-align-right\">Right Text</p><p class=\"ql-align-right\">Right Text 2</p>', added_by='2e3b0eec-0fe2-4e98-9259-d66060069b78', last_updated_at=datetime.datetime(2025, 1, 27, 18, 44, 28, 27879), task_reference_id=None, pipeline_id=None, is_drafted_remarks=None), PipelineItemRemarksDTO(pipeline_item_remarks_id='acb5cf3e-ae2c-4d44-901b-898c5e6f7378', pipeline_item_id='23645e99-d590-406c-8b30-d78ecea065a3', added_at=datetime.datetime(2025, 1, 27, 18, 17, 5, 618238), remarks='<p>Hi we have some text here</p>', added_by='2e3b0eec-0fe2-4e98-9259-d66060069b78', last_updated_at=datetime.datetime(2025, 1, 27, 18, 17, 5, 618238), task_reference_id=None, pipeline_id=None, is_drafted_remarks=None)]\n",
    "\n",
    "pdf_bytes = remarks_to_pdf.convert_remarks_to_pdf(remark_dtos = remark_dtos)"
   ]
  },
  {
   "cell_type": "code",
   "execution_count": 3,
   "id": "2957593f-2700-46e8-9116-511f1ac26cbf",
   "metadata": {},
   "outputs": [],
   "source": [
    "def save_pdf_from_bytes(pdf_bytes, output_path):\n",
    "    with open(output_path, 'wb') as file:\n",
    "        file.write(pdf_bytes)\n",
    "\n",
    "save_pdf_from_bytes(pdf_bytes, \"generated_document.pdf\")"
   ]
  },
  {
   "cell_type": "code",
   "execution_count": null,
   "id": "7a3a8003-b014-42bf-9180-ab464386c8ab",
   "metadata": {},
   "outputs": [],
   "source": []
  }
 ],
 "metadata": {
  "kernelspec": {
   "display_name": "Python 3 (ipykernel)",
   "language": "python",
   "name": "python3"
  },
  "language_info": {
   "codemirror_mode": {
    "name": "ipython",
    "version": 3
   },
   "file_extension": ".py",
   "mimetype": "text/x-python",
   "name": "python",
   "nbconvert_exporter": "python",
   "pygments_lexer": "ipython3",
   "version": "3.10.6"
  }
 },
 "nbformat": 4,
 "nbformat_minor": 5
}
